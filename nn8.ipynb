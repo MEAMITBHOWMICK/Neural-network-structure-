{
  "nbformat": 4,
  "nbformat_minor": 0,
  "metadata": {
    "colab": {
      "provenance": []
    },
    "kernelspec": {
      "name": "python3",
      "display_name": "Python 3"
    },
    "language_info": {
      "name": "python"
    }
  },
  "cells": [
    {
      "cell_type": "code",
      "execution_count": null,
      "metadata": {
        "colab": {
          "base_uri": "https://localhost:8080/"
        },
        "id": "X6nR3aXAL4BI",
        "outputId": "4a0862f0-4c84-4480-8f72-e71c324924a3"
      },
      "outputs": [
        {
          "output_type": "stream",
          "name": "stdout",
          "text": [
            "Looking in indexes: https://pypi.org/simple, https://us-python.pkg.dev/colab-wheels/public/simple/\n",
            "Collecting onnx\n",
            "  Downloading onnx-1.14.0-cp310-cp310-manylinux_2_17_x86_64.manylinux2014_x86_64.whl (14.6 MB)\n",
            "\u001b[2K     \u001b[90m━━━━━━━━━━━━━━━━━━━━━━━━━━━━━━━━━━━━━━━━\u001b[0m \u001b[32m14.6/14.6 MB\u001b[0m \u001b[31m66.9 MB/s\u001b[0m eta \u001b[36m0:00:00\u001b[0m\n",
            "\u001b[?25hRequirement already satisfied: numpy in /usr/local/lib/python3.10/dist-packages (from onnx) (1.22.4)\n",
            "Requirement already satisfied: protobuf>=3.20.2 in /usr/local/lib/python3.10/dist-packages (from onnx) (3.20.3)\n",
            "Requirement already satisfied: typing-extensions>=3.6.2.1 in /usr/local/lib/python3.10/dist-packages (from onnx) (4.5.0)\n",
            "Installing collected packages: onnx\n",
            "Successfully installed onnx-1.14.0\n"
          ]
        }
      ],
      "source": [
        "!pip install onnx"
      ]
    },
    {
      "cell_type": "code",
      "source": [
        "import onnx\n",
        "import numpy as np\n",
        "\n",
        "from onnx import TensorProto, numpy_helper\n",
        "from onnx.helper import (\n",
        "    make_model, make_node, make_graph,\n",
        "    make_tensor_value_info)\n",
        "from onnx.checker import check_model\n",
        "\n",
        "X = make_tensor_value_info('X', TensorProto.FLOAT, [8])\n",
        "O = make_tensor_value_info('O', TensorProto.FLOAT, [8])\n",
        "\n",
        "N=[]\n",
        "\n",
        "value = np.array([[.92, 0, 0, 0, 0, 0, 0, 0],[.51, 0, 0, 0, 0, 0, 0, 0],[.1, 0, 0, 0, 0, 0, 0, 0] ,[.3, 0, 0, 0, 0, 0, 0, 0] ,[.2, 0, 0, 0, 0, 0, 0, 0],[.6, 0, 0, 0, 0, 0, 0, 0] ,[.1, 0, 0, 0, 0, 0, 0, 0] ,[.5, 0, 0, 0, 0, 0, 0, 0]],  dtype=np.float32)\n",
        "Lf = numpy_helper.from_array(value, name='Lf')\n",
        "\n",
        "value = np.array([np.random.uniform(0.0, 1.0, 8),np.random.uniform(0.0, 1.0, 8), np.random.uniform(0.0, 1.0, 8), np.random.uniform(0.0, 1.0, 8), np.random.uniform(0.0, 1.0, 8), np.random.uniform(0.0, 1.0, 8), np.random.uniform(0.0, 1.0, 8), np.random.uniform(0.0, 1.0, 8)])\n",
        ", dtype=np.float32)\n",
        "L = numpy_helper.from_array(value, name='L')\n",
        "node = make_node('Gemm', ['X', 'L'], ['XL'])\n",
        "N.append(node)\n",
        "node = make_node(\n",
        "    \"Relu\",\n",
        "    inputs=[\"XL\"],\n",
        "    outputs=[\"Y1\"],\n",
        ")\n",
        "N.append(node)\n",
        "\n",
        "node = make_node('Gemm', ['Y1','Lf'], ['O'])\n",
        "N.append(node)\n",
        "\n",
        "graph = make_graph(N, 'lr', [X], [O], [L, Lf])\n",
        "onnx_model = make_model(graph)\n",
        "check_model(onnx_model)\n",
        "\n",
        "print(onnx_model)\n"
      ],
      "metadata": {
        "colab": {
          "base_uri": "https://localhost:8080/"
        },
        "id": "nJnyKNGdL-_C",
        "outputId": "41dd1af8-d43b-483d-85d8-5b8466f5e2b6"
      },
      "execution_count": null,
      "outputs": [
        {
          "output_type": "stream",
          "name": "stdout",
          "text": [
            "ir_version: 9\n",
            "graph {\n",
            "  node {\n",
            "    input: \"X\"\n",
            "    input: \"L\"\n",
            "    output: \"XL\"\n",
            "    op_type: \"Gemm\"\n",
            "  }\n",
            "  node {\n",
            "    input: \"XL\"\n",
            "    output: \"Y1\"\n",
            "    op_type: \"Relu\"\n",
            "  }\n",
            "  node {\n",
            "    input: \"Y1\"\n",
            "    input: \"Lf\"\n",
            "    output: \"O\"\n",
            "    op_type: \"Gemm\"\n",
            "  }\n",
            "  name: \"lr\"\n",
            "  initializer {\n",
            "    dims: 8\n",
            "    dims: 8\n",
            "    data_type: 11\n",
            "    name: \"L\"\n",
            "    raw_data: \"\\306;\\r\\\"\\017\\221\\350?D\\360bK!\\236\\333?\\334\\234, b\\025\\302?\\000\\026c\\215\\232^\\334?,b\\250\\033m\\250\\331?\\271\\3563\\242]\\343\\354?\\330d\\007\\323\\354P\\317?\\251#\\326-\\233\\025\\342?\\\"\\014\\n0\\2076\\356?8\\255\\342\\010xF\\263??\\312\\023\\t\\364\\230\\351?\\371\\207:\\263T7\\352?\\240\\320\\343\\007\\265l\\273?B\\033\\020B\\026\\030\\324?\\337vh\\315\\225\\315\\356?\\222\\307\\356$T\\334\\343?M(\\351f%\\356\\341?\\300\\325\\243\\372\\\"L\\213?\\237z\\232\\005]@\\356?\\200\\367(\\376\\324\\216\\262?[\\261\\033zL\\374\\342?\\300\\202\\3627*\\306\\207?\\304\\\"h\\004VF\\321?p\\370\\267\\371h\\353\\321?\\204\\2731\\313\\211,\\356?\\032\\365\\024\\216\\266\\350\\324?\\0307,\\177Y\\311\\302?\\n\\311|]\\'{\\352?\\000\\003\\213\\237E(\\270?\\000\\014\\035h\\304\\020\\351?\\021fY\\270d(\\352? H\\251\\2545\\302\\324?\\364H\\023h\\261\\354\\304?\\3000\\243\\265\\023\\327\\253?\\352\\235I\\253\\260Z\\346?\\340=\\205\\345\\215~\\303?,\\237\\231\\016\\352G\\351?X\\263\\305\\251\\222\\301\\311?(!9C\\215\\347\\311?\\316.%(:\\267\\353?[2\\352\\337\\255\\326\\356?\\240\\237|\\326\\030\\261\\254?\\030\\2723\\276\\361l\\277?\\3455\\341\\333\\347*\\343?3\\342\\377r\\0278\\355?\\374cT\\3052\\272\\357?\\323l<=\\2614\\353?\\030\\363 \\347\\207\\331\\332?24\\033R\\217\\006\\330?\\202\\373n4\\333\\342\\345?\\250AV\\345\\231\\314\\356?\\t\\343\\350p\\350a\\356?\\254s\\250E6~\\312?\\335\\031\\363S\\224~\\343?\\343\\367V\\317\\301\\211\\345?\\034~\\302Q\\rX\\337?\\026\\270s\\270$l\\346?\\007\\rfs\\241\\216\\356?>p\\246m\\325\\375\\336?@]\\223?6\\204\\352?\\220g\\217\\272\\330\\021\\332?\\223\\321=j\\021\\303\\356?P\\226\\365\\237\\272\\310\\255?\\020\\345\\243n\\234\\r\\351?\"\n",
            "  }\n",
            "  initializer {\n",
            "    dims: 8\n",
            "    dims: 8\n",
            "    data_type: 1\n",
            "    name: \"Lf\"\n",
            "    raw_data: \"\\037\\205k?\\000\\000\\000\\000\\000\\000\\000\\000\\000\\000\\000\\000\\000\\000\\000\\000\\000\\000\\000\\000\\000\\000\\000\\000\\000\\000\\000\\000\\\\\\217\\002?\\000\\000\\000\\000\\000\\000\\000\\000\\000\\000\\000\\000\\000\\000\\000\\000\\000\\000\\000\\000\\000\\000\\000\\000\\000\\000\\000\\000\\315\\314\\314=\\000\\000\\000\\000\\000\\000\\000\\000\\000\\000\\000\\000\\000\\000\\000\\000\\000\\000\\000\\000\\000\\000\\000\\000\\000\\000\\000\\000\\232\\231\\231>\\000\\000\\000\\000\\000\\000\\000\\000\\000\\000\\000\\000\\000\\000\\000\\000\\000\\000\\000\\000\\000\\000\\000\\000\\000\\000\\000\\000\\315\\314L>\\000\\000\\000\\000\\000\\000\\000\\000\\000\\000\\000\\000\\000\\000\\000\\000\\000\\000\\000\\000\\000\\000\\000\\000\\000\\000\\000\\000\\232\\231\\031?\\000\\000\\000\\000\\000\\000\\000\\000\\000\\000\\000\\000\\000\\000\\000\\000\\000\\000\\000\\000\\000\\000\\000\\000\\000\\000\\000\\000\\315\\314\\314=\\000\\000\\000\\000\\000\\000\\000\\000\\000\\000\\000\\000\\000\\000\\000\\000\\000\\000\\000\\000\\000\\000\\000\\000\\000\\000\\000\\000\\000\\000\\000?\\000\\000\\000\\000\\000\\000\\000\\000\\000\\000\\000\\000\\000\\000\\000\\000\\000\\000\\000\\000\\000\\000\\000\\000\\000\\000\\000\\000\"\n",
            "  }\n",
            "  input {\n",
            "    name: \"X\"\n",
            "    type {\n",
            "      tensor_type {\n",
            "        elem_type: 1\n",
            "        shape {\n",
            "          dim {\n",
            "            dim_value: 8\n",
            "          }\n",
            "        }\n",
            "      }\n",
            "    }\n",
            "  }\n",
            "  output {\n",
            "    name: \"O\"\n",
            "    type {\n",
            "      tensor_type {\n",
            "        elem_type: 1\n",
            "        shape {\n",
            "          dim {\n",
            "            dim_value: 8\n",
            "          }\n",
            "        }\n",
            "      }\n",
            "    }\n",
            "  }\n",
            "}\n",
            "opset_import {\n",
            "  version: 19\n",
            "}\n",
            "\n"
          ]
        }
      ]
    },
    {
      "cell_type": "code",
      "source": [
        "with open(\"nn81.onnx\", \"wb\") as f:\n",
        "    f.write(onnx_model.SerializeToString())"
      ],
      "metadata": {
        "id": "JeeHTbGVMZKE"
      },
      "execution_count": null,
      "outputs": []
    },
    {
      "cell_type": "code",
      "source": [],
      "metadata": {
        "id": "XFuI_ZeJMe5z"
      },
      "execution_count": null,
      "outputs": []
    }
  ]
}